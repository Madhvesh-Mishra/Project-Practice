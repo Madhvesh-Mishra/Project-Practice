{
  "nbformat": 4,
  "nbformat_minor": 0,
  "metadata": {
    "colab": {
      "provenance": []
    },
    "kernelspec": {
      "name": "python3",
      "display_name": "Python 3"
    },
    "language_info": {
      "name": "python"
    }
  },
  "cells": [
    {
      "cell_type": "code",
      "execution_count": null,
      "metadata": {
        "id": "RKOayjtLlQx4"
      },
      "outputs": [],
      "source": []
    },
    {
      "cell_type": "markdown",
      "source": [
        "#Python Basics\n"
      ],
      "metadata": {
        "id": "GCdDSJ8Lx7kT"
      }
    },
    {
      "cell_type": "markdown",
      "source": [
        "01. What is Python, and why is it popular ?\n",
        "\n",
        "Ans. Python is a open source programming language khown for its simple syntax, easy to learn, and wide number of active community"
      ],
      "metadata": {
        "id": "I89OLUpByK_7"
      }
    },
    {
      "cell_type": "markdown",
      "source": [
        "2. What is an interpreter in Python ?\n",
        "\n",
        "Ans. A python interpreter is a programme that reads and excecutes the python code.\n",
        "This means that the interpreter reads the python code, analyze it and excecutes it directly."
      ],
      "metadata": {
        "id": "MimFU2a72uLi"
      }
    },
    {
      "cell_type": "markdown",
      "source": [
        "3. What are pre-defined keywords in Python?\n",
        "\n",
        "Ans. Keywords in python are reserved words that have special meanings to the interpreter, you can not use these words as identifiers(like varibale name, function names etc)\n"
      ],
      "metadata": {
        "id": "5l0xLfUK5TyO"
      }
    },
    {
      "cell_type": "code",
      "source": [
        "\n",
        "import keyword\n",
        "print (\"The list of python pre-defined keywords is\")\n",
        "print (keyword.kwlist)"
      ],
      "metadata": {
        "colab": {
          "base_uri": "https://localhost:8080/"
        },
        "collapsed": true,
        "id": "J1QiVUgH36mx",
        "outputId": "75dfea1f-9588-402e-f902-4dd711dfb364"
      },
      "execution_count": null,
      "outputs": [
        {
          "output_type": "stream",
          "name": "stdout",
          "text": [
            "The list of python pre-defined keywords is\n",
            "['False', 'None', 'True', 'and', 'as', 'assert', 'async', 'await', 'break', 'class', 'continue', 'def', 'del', 'elif', 'else', 'except', 'finally', 'for', 'from', 'global', 'if', 'import', 'in', 'is', 'lambda', 'nonlocal', 'not', 'or', 'pass', 'raise', 'return', 'try', 'while', 'with', 'yield']\n"
          ]
        }
      ]
    },
    {
      "cell_type": "markdown",
      "source": [
        "4. Can keywords be used as variable names ?\n",
        "\n",
        "Ans. Keywords define the language syntax rule and structure, and they can not be used as variable names."
      ],
      "metadata": {
        "id": "V6z9U9_g5j-B"
      }
    },
    {
      "cell_type": "markdown",
      "source": [
        "5. What is mutability in Python?\n",
        "\n",
        "Ans. In python mutability refers to : the capability of an object to be changed or modified after its creation."
      ],
      "metadata": {
        "id": "2DustjQx6oWC"
      }
    },
    {
      "cell_type": "markdown",
      "source": [
        "6. Why are lists mutable, but tuples are immutable ?\n",
        "\n",
        "Ans. Tuples and lists are same in every way except two : tuples use parantheses instead of square bracket and the items in tuples can not be modified."
      ],
      "metadata": {
        "id": "T4RQfL667LrU"
      }
    },
    {
      "cell_type": "markdown",
      "source": [
        "7. What is the difference between “==” and “is” operators in Python ?\n",
        "\n",
        "Ans. (==) opeartor : compares the value of two objects\n",
        " returns true if the values are equal.\n",
        "\n",
        "(is) operator : Compares the memory address of two objects.\n",
        "Returns true if both variables points to the same objects in the memory."
      ],
      "metadata": {
        "id": "6hDDrruS73cu"
      }
    },
    {
      "cell_type": "markdown",
      "source": [
        "8.  What are logical operators in Python ?\n",
        "\n",
        "Ans. The logical operators are used on conditionals statements (either true or false) they perform logical AND, logical OR and logical NOT operations."
      ],
      "metadata": {
        "id": "9eqwtHuO9YmM"
      }
    },
    {
      "cell_type": "markdown",
      "source": [
        "9. What is type casting in Python ?\n",
        "\n",
        "Ans. Type casting is the method to convert the python variable datatypes into a certain data types in order to perform the required operations by users.\n",
        "\n",
        "in other words : Type casting is the process of converting data from one form to another form."
      ],
      "metadata": {
        "id": "IjvWEFKN_Bqc"
      }
    },
    {
      "cell_type": "markdown",
      "source": [
        "10. What is the difference between implicit and explicit type casting ?\n",
        "\n",
        "Implicit type casting happens automatically while explicit type casting requires manual intervation."
      ],
      "metadata": {
        "id": "IMUvz_e6AjxP"
      }
    },
    {
      "cell_type": "markdown",
      "source": [
        "11. What is the purpose of conditional statements in Python ?\n",
        "\n",
        "Ans. Conditional statements in python are used to excecute certain blockes of code  based on specific conditions, these statements help control the flow of proggram, making in beahve differently in different situations."
      ],
      "metadata": {
        "id": "qJuxxGCHBmzh"
      }
    },
    {
      "cell_type": "markdown",
      "source": [
        "12. How does the elif statement work ?\n",
        "\n",
        "Ans. The \"elif\" keyword in python stantds for \"else if\". It can be used in conditionals statement to check multiple conditions.\n",
        "\n",
        "for example : If the first condition is false, it moves on the next \"elif\" statement to check if not condition is true."
      ],
      "metadata": {
        "id": "CTfV_2XVWpmD"
      }
    },
    {
      "cell_type": "markdown",
      "source": [
        "13. What is the difference between for and while loops ?\n",
        "\n",
        "Ans. For loops is used to iterate over a sequence of items, while loops is used to repeatedly excecutes a block of statements while condition is true."
      ],
      "metadata": {
        "id": "2zFXmDMGXoou"
      }
    },
    {
      "cell_type": "markdown",
      "source": [
        "114. Describe a scenario where a while loop is more suitable than a for loop.\n",
        "\n",
        "Ans. While loop is more suitable where the numbers of iterations is not predetermined and depends on some dynamic conditions."
      ],
      "metadata": {
        "id": "oFIPRWnQYZcT"
      }
    },
    {
      "cell_type": "markdown",
      "source": [
        "1. Write a Python program to print \"Hello, World!\"\n",
        "\n"
      ],
      "metadata": {
        "id": "2mxwlpKbcngh"
      }
    },
    {
      "cell_type": "code",
      "source": [
        "print (\"Hellow, World!\")"
      ],
      "metadata": {
        "id": "3PS9Jv-0c1nu"
      },
      "execution_count": null,
      "outputs": []
    },
    {
      "cell_type": "markdown",
      "source": [
        "2. Write a Python program that displays your name and age."
      ],
      "metadata": {
        "id": "1JVUIyHxc_pk"
      }
    },
    {
      "cell_type": "code",
      "source": [
        "\n",
        "name = \"Madhvesh Mishra\"\n",
        "age =\"24\"\n",
        "\n",
        "print (\"Name:\", name , \"Age :\", age)\n"
      ],
      "metadata": {
        "colab": {
          "base_uri": "https://localhost:8080/"
        },
        "cellView": "code",
        "id": "nq6K0DRcg2DL",
        "outputId": "7e42918f-d3e7-4ac4-e482-4d6b2b2d499b"
      },
      "execution_count": null,
      "outputs": [
        {
          "output_type": "stream",
          "name": "stdout",
          "text": [
            "Name: Madhvesh Mishra Age : 24\n"
          ]
        }
      ]
    },
    {
      "cell_type": "markdown",
      "source": [
        "3. Write code to print all the pre-defined keywords in Python using the keyword library.:"
      ],
      "metadata": {
        "id": "9BkS7_SGhMAY"
      }
    },
    {
      "cell_type": "code",
      "source": [
        "import keyword\n",
        "print (\"All the pre-defined keywords in Python using the keyword library\")\n",
        "print (keyword.kwlist)\n"
      ],
      "metadata": {
        "colab": {
          "base_uri": "https://localhost:8080/"
        },
        "id": "BuFUlj3thnDw",
        "outputId": "93b12ad0-6b93-4e0a-a215-5872fcd3d63c"
      },
      "execution_count": null,
      "outputs": [
        {
          "output_type": "stream",
          "name": "stdout",
          "text": [
            "All the pre-defined keywords in Python using the keyword library\n",
            "['False', 'None', 'True', 'and', 'as', 'assert', 'async', 'await', 'break', 'class', 'continue', 'def', 'del', 'elif', 'else', 'except', 'finally', 'for', 'from', 'global', 'if', 'import', 'in', 'is', 'lambda', 'nonlocal', 'not', 'or', 'pass', 'raise', 'return', 'try', 'while', 'with', 'yield']\n"
          ]
        }
      ]
    },
    {
      "cell_type": "markdown",
      "source": [
        "4. Write a program that checks if a given word is a Python keyword."
      ],
      "metadata": {
        "id": "hxrwv4B-icvd"
      }
    },
    {
      "cell_type": "code",
      "source": [
        "import keyword\n",
        "keywords = keyword.kwlist\n",
        "word = \"elif\"\n",
        "if word in keywords:\n",
        "  print (\"the word is python keyword\")\n",
        "else:\n",
        "  print (\"the word is not a python keyword\")"
      ],
      "metadata": {
        "id": "uPNWI2HIskHU",
        "colab": {
          "base_uri": "https://localhost:8080/"
        },
        "collapsed": true,
        "outputId": "10927b85-004f-46ad-cec7-fe28f9440b73"
      },
      "execution_count": null,
      "outputs": [
        {
          "output_type": "stream",
          "name": "stdout",
          "text": [
            "the word is python keyword\n"
          ]
        }
      ]
    },
    {
      "cell_type": "markdown",
      "source": [
        " 5. Create a list and tuple in Python, and demonstrate how attempting to change an element works differently\n",
        "for each."
      ],
      "metadata": {
        "id": "UisSLh8bTMnr"
      }
    },
    {
      "cell_type": "code",
      "source": [
        "fruit_list = [ 'apple', 'banana', 'grapes', 'orange', 'guava', 'pineapple']\n",
        "fruit_tuple = ('apple', 'banana', 'grapes', 'orange', 'guava', 'pineapple')\n",
        "#tuple are used the parantheses ()\n",
        "fruit_list [2] = \"tomato\"\n",
        "\n",
        "print (\"list after modification:\", fruit_list)\n",
        "try:\n",
        "  fruit_tuple [3] = \"potato\"\n",
        "  print(\"tuple after modification:\", fruit_tuple)\n",
        "except TypeError as e:\n",
        "    print(\"error when modifying tuple\", e)\n"
      ],
      "metadata": {
        "colab": {
          "base_uri": "https://localhost:8080/"
        },
        "id": "-TqV-gx7Vb5r",
        "outputId": "17cee244-e269-45ac-b7f9-adb4cbc6eef3"
      },
      "execution_count": null,
      "outputs": [
        {
          "output_type": "stream",
          "name": "stdout",
          "text": [
            "list after modification: ['apple', 'banana', 'tomato', 'orange', 'guava', 'pineapple']\n",
            "error when modifying tuple 'tuple' object does not support item assignment\n"
          ]
        }
      ]
    },
    {
      "cell_type": "markdown",
      "source": [
        "6. Write a function to demonstrate the behavior of mutable and immutable arguments.\n"
      ],
      "metadata": {
        "id": "OL7qD9vWcucw"
      }
    },
    {
      "cell_type": "code",
      "source": [
        "def modify_arguments(mutable_arg, imutable_arg):\n",
        "  mutable_arg[0] = \"Potato\"\n",
        "\n",
        "  try:\n",
        "    imutable_arg[0]= \"Tomato\"\n",
        "  except TypeError as e:\n",
        "      print(\"Error modifying imutable arguments:\", e)\n",
        "\n",
        "my_list = [ \"Mango\", 66, 67, 95]\n",
        "my_tuple = (\"Mango\", 66, 67, 95)\n",
        "print(\"Before function call:\")\n",
        "print(\"List:\", my_list)\n",
        "print(\"Tuple:\", my_tuple)\n",
        "modify_arguments(my_list, my_tuple)\n",
        "print(\"After function call:\")\n",
        "print(\"list:\", my_list)\n",
        "print(\"Tuples:\", my_tuple)\n"
      ],
      "metadata": {
        "colab": {
          "base_uri": "https://localhost:8080/"
        },
        "id": "rJfvoQGqd9LK",
        "outputId": "8271ee1f-e260-4af9-e353-697b20c6ab7f"
      },
      "execution_count": null,
      "outputs": [
        {
          "output_type": "stream",
          "name": "stdout",
          "text": [
            "Before function call:\n",
            "List: ['Mango', 66, 67, 95]\n",
            "Tuple: ('Mango', 66, 67, 95)\n",
            "Error modifying imutable arguments: 'tuple' object does not support item assignment\n",
            "After function call:\n",
            "list: ['Potato', 66, 67, 95]\n",
            "Tuples: ('Mango', 66, 67, 95)\n"
          ]
        }
      ]
    },
    {
      "cell_type": "markdown",
      "source": [
        "7. Write a program that performs basic arithmetic operations on two user-input numbers.\n"
      ],
      "metadata": {
        "id": "lJsSeLYeozTA"
      }
    },
    {
      "cell_type": "code",
      "source": [
        "value1 = 45\n",
        "value2 = 2\n",
        "result = value1 + value2\n",
        "print(f\"{value1} + {value2} = {result}\")\n",
        "result = value1 - value2\n",
        "print(f\"{value1} - {value2} = {result}\")\n",
        "result = value1 * value2\n",
        "print(f\"{value1} * {value2} = {result}\")\n"
      ],
      "metadata": {
        "colab": {
          "base_uri": "https://localhost:8080/"
        },
        "id": "NRiOULw7o5ZY",
        "outputId": "bced2146-e55a-47b2-93b2-5e61c6497e3b"
      },
      "execution_count": null,
      "outputs": [
        {
          "output_type": "stream",
          "name": "stdout",
          "text": [
            "45 + 2 = 47\n",
            "45 - 2 = 43\n",
            "45 * 2 = 90\n"
          ]
        }
      ]
    },
    {
      "cell_type": "markdown",
      "source": [
        "8. Write a program to demonstrate the use of logical operators."
      ],
      "metadata": {
        "id": "ufibXZW7iE5O"
      }
    },
    {
      "cell_type": "code",
      "source": [
        "def logical_operators(a, b):\n",
        " print(f\"Values: a={a}, b={b}\")\n",
        " and_result= a and b\n",
        " print(f\"{a} and {b} = {and_result}\")\n",
        " or_result = a or b\n",
        " print(f\"{a} or {b}= {or_result}\")\n",
        " not_a= not a\n",
        " print(f\"not {a} = {not_a}\")\n",
        " not_b = not b\n",
        " print(f\"not {b} = {not_b}\")\n",
        "\n",
        "print(\"example 1:\")\n",
        "logical_operators(True, False)\n",
        "print(\"example 2:\")\n",
        "logical_operators(False, False)\n",
        "print(\"example 3:\")\n",
        "logical_operators(True, True)\n"
      ],
      "metadata": {
        "colab": {
          "base_uri": "https://localhost:8080/"
        },
        "id": "rbXsqAvPi7ln",
        "outputId": "8242c0b6-b2b6-422a-c169-f5c7fafbaf1e"
      },
      "execution_count": null,
      "outputs": [
        {
          "output_type": "stream",
          "name": "stdout",
          "text": [
            "example 1:\n",
            "Values: a=True, b=False\n",
            "True and False = False\n",
            "True or False= True\n",
            "not True = False\n",
            "not False = True\n",
            "example 2:\n",
            "Values: a=False, b=False\n",
            "False and False = False\n",
            "False or False= False\n",
            "not False = True\n",
            "not False = True\n",
            "example 3:\n",
            "Values: a=True, b=True\n",
            "True and True = True\n",
            "True or True= True\n",
            "not True = False\n",
            "not True = False\n"
          ]
        }
      ]
    },
    {
      "cell_type": "markdown",
      "source": [
        "9. Write a Python program to convert user input from string to integer, float, and boolean types."
      ],
      "metadata": {
        "id": "arbHfr9yP-lW"
      }
    },
    {
      "cell_type": "code",
      "source": [
        "a = 4\n",
        "b = \"3\"\n",
        "print(a+int(b))\n",
        "\n",
        "\n",
        "c = 3.4\n",
        "print(int(c))\n",
        "print(float(a))\n",
        "print(bool(a))\n",
        "\n",
        "print(int(b))\n",
        "print(float(b))\n",
        "print(bool(c))\n"
      ],
      "metadata": {
        "colab": {
          "base_uri": "https://localhost:8080/"
        },
        "id": "fTrTtkS7Q2Kq",
        "outputId": "f0ea4b02-28d5-40b6-c638-14ee64533d64"
      },
      "execution_count": 10,
      "outputs": [
        {
          "output_type": "stream",
          "name": "stdout",
          "text": [
            "7\n",
            "3\n",
            "4.0\n",
            "True\n",
            "3\n",
            "3.0\n",
            "True\n"
          ]
        }
      ]
    },
    {
      "cell_type": "markdown",
      "source": [
        "10. Write code to demonstrate type casting with list elements.\n"
      ],
      "metadata": {
        "id": "81MQweXwXpvS"
      }
    },
    {
      "cell_type": "code",
      "source": [
        "list = ['1', 'Ram', 'True', '22', '24', 'False']\n",
        "print(str(list[3]))\n",
        "print(int(list[4]))\n",
        "print(bool(list[3]))\n",
        "print(float(list[4]))"
      ],
      "metadata": {
        "id": "b_7iH5WPdSJK"
      },
      "execution_count": null,
      "outputs": []
    },
    {
      "cell_type": "markdown",
      "source": [
        "11. Write a program that checks if a number is positive, negative, or zero.\n"
      ],
      "metadata": {
        "id": "H7y0DnbEebp3"
      }
    },
    {
      "cell_type": "code",
      "source": [
        "number = -1\n",
        "\n",
        "if number > 0:\n",
        " print(\"Number is positive\")\n",
        "if number < 0:\n",
        " print(\"Number is negative\")\n",
        "if number == 0:\n",
        " print(\"Number is zero\")"
      ],
      "metadata": {
        "id": "JvX2w3lre3TJ"
      },
      "execution_count": null,
      "outputs": []
    },
    {
      "cell_type": "markdown",
      "source": [
        "12. Write a for loop to print numbers from 1 to 10.\n"
      ],
      "metadata": {
        "id": "Nn3E_xo8gD9m"
      }
    },
    {
      "cell_type": "code",
      "source": [
        "for number in range(1, 11):\n",
        "  print(number)"
      ],
      "metadata": {
        "colab": {
          "base_uri": "https://localhost:8080/"
        },
        "id": "c7RfqVF5gHEP",
        "outputId": "a3ebc3fa-9032-4ae6-83c2-22b768668729"
      },
      "execution_count": 27,
      "outputs": [
        {
          "output_type": "stream",
          "name": "stdout",
          "text": [
            "1\n",
            "2\n",
            "3\n",
            "4\n",
            "5\n",
            "6\n",
            "7\n",
            "8\n",
            "9\n",
            "10\n"
          ]
        }
      ]
    },
    {
      "cell_type": "markdown",
      "source": [
        "13. Write a Python program to find the sum of all even numbers between 1 and 50.\n"
      ],
      "metadata": {
        "id": "hn3-EcE4vf96"
      }
    },
    {
      "cell_type": "code",
      "source": [
        "total_sum = 0\n",
        "\n",
        "for number in range(2, 51):\n",
        "  if number % 2 == 0:\n",
        "   total_sum += number\n",
        "  print(total_sum)"
      ],
      "metadata": {
        "colab": {
          "base_uri": "https://localhost:8080/"
        },
        "id": "XzG7avEpv5mb",
        "outputId": "f6201868-1384-436e-bcb4-e900a8cac4b3"
      },
      "execution_count": 32,
      "outputs": [
        {
          "output_type": "stream",
          "name": "stdout",
          "text": [
            "2\n",
            "2\n",
            "6\n",
            "6\n",
            "12\n",
            "12\n",
            "20\n",
            "20\n",
            "30\n",
            "30\n",
            "42\n",
            "42\n",
            "56\n",
            "56\n",
            "72\n",
            "72\n",
            "90\n",
            "90\n",
            "110\n",
            "110\n",
            "132\n",
            "132\n",
            "156\n",
            "156\n",
            "182\n",
            "182\n",
            "210\n",
            "210\n",
            "240\n",
            "240\n",
            "272\n",
            "272\n",
            "306\n",
            "306\n",
            "342\n",
            "342\n",
            "380\n",
            "380\n",
            "420\n",
            "420\n",
            "462\n",
            "462\n",
            "506\n",
            "506\n",
            "552\n",
            "552\n",
            "600\n",
            "600\n",
            "650\n"
          ]
        }
      ]
    },
    {
      "cell_type": "markdown",
      "source": [
        "14. Write a program to reverse a string using a while loop."
      ],
      "metadata": {
        "id": "VB3lX7YlzLTd"
      }
    },
    {
      "cell_type": "code",
      "source": [
        "def reverse_string(input_str):\n",
        "    reversed_str = \"\"\n",
        "\n",
        "    index = len(input_str) - 1\n",
        "\n",
        "\n",
        "    while index >= 0:\n",
        "\n",
        "        reversed_str += input_str[index]\n",
        "\n",
        "        index -= 1\n",
        "\n",
        "    return reversed_str\n",
        "\n",
        "\n",
        "original_str = \"Hello, World!\"\n",
        "reversed_str = reverse_string(original_str)\n",
        "print(\"Original string:\", original_str)\n",
        "print(\"Reversed string:\", reversed_str)\n"
      ],
      "metadata": {
        "colab": {
          "base_uri": "https://localhost:8080/"
        },
        "id": "k_tAlsa4zRNQ",
        "outputId": "24a724f4-f62d-4c20-ab25-a735c9112eb6"
      },
      "execution_count": 33,
      "outputs": [
        {
          "output_type": "stream",
          "name": "stdout",
          "text": [
            "Original string: Hello, World!\n",
            "Reversed string: !dlroW ,olleH\n"
          ]
        }
      ]
    },
    {
      "cell_type": "markdown",
      "source": [
        "15. Write a Python program to calculate the factorial of a number provided by the user using a while loop."
      ],
      "metadata": {
        "id": "14yWpTja0Rmx"
      }
    },
    {
      "cell_type": "code",
      "source": [
        "\n",
        "def calculate_factorial(num):\n",
        "\n",
        "    factorial = 1\n",
        "\n",
        "    i = num\n",
        "    while i > 0:\n",
        "        factorial *= i\n",
        "        i -= 1\n",
        "\n",
        "    return factorial\n",
        "\n",
        "\n",
        "user_input = int(input(\"Enter a number: \"))\n",
        "if user_input < 0:\n",
        "    print(\"Factorial is not defined for negative numbers.\")\n",
        "else:\n",
        "    result = calculate_factorial(user_input)\n",
        "    print(f\"The factorial of {user_input} is {result}.\")\n"
      ],
      "metadata": {
        "id": "VS1QNWqX1A6v"
      },
      "execution_count": null,
      "outputs": []
    }
  ]
}