{
  "nbformat": 4,
  "nbformat_minor": 0,
  "metadata": {
    "colab": {
      "provenance": []
    },
    "kernelspec": {
      "name": "python3",
      "display_name": "Python 3"
    },
    "language_info": {
      "name": "python"
    }
  },
  "cells": [
    {
      "cell_type": "markdown",
      "source": [
        "# **Python OOP Theoritical Questions**"
      ],
      "metadata": {
        "id": "Agze-BwK2m_Z"
      }
    },
    {
      "cell_type": "markdown",
      "source": [
        "1. H What is Object-Oriented Programming (OOP)?\n",
        "\n",
        "Answer: Object oriented programming aims to implement real-world entities like inheritance, hiding, polymorphism, etc in programming.\n",
        "The aim of of OOP is to bind together the data and the functions that operate on them so that no other part of the code can access this data except that function"
      ],
      "metadata": {
        "id": "xQWkUgcmOiC8"
      }
    },
    {
      "cell_type": "markdown",
      "source": [
        "2.  What is a class in OOP?\n",
        "\n",
        "Answer: A class is like a blueprint of an object. A class is user-defined data type. It consists of data members and member functions, which can be accessed and used by creating an instance of that class. It represents the set of properties or method that are common to all objects of one type."
      ],
      "metadata": {
        "id": "0TVypk8kSWe8"
      }
    },
    {
      "cell_type": "markdown",
      "source": [
        "3.  What is an object in OOP?\n",
        "\n",
        "Answer: An instance of a class is an object. It consists of a set of methods and attributes. Actions are carried out using a class's object.\n",
        "Objects have two qualities : They exhibits states and actions. Method represents its behaviour, while attributed represent its state. We can alter its status by using its teechniques.\n",
        "\n",
        "Every object has following properties:\n",
        "\n",
        "**Identity**: Any object neefs to have unique identification.\n",
        "\n",
        "**State**: An attributes of an object reflects both the properties and the state of the object.\n",
        "\n",
        "**Behaviour**: Method represent the behaviour of an objeect."
      ],
      "metadata": {
        "id": "pAoEnjK5bigU"
      }
    },
    {
      "cell_type": "markdown",
      "source": [
        "4. What is the difference between abstraction and encapsulation?\n",
        "\n",
        "Answer:\n",
        "\n",
        "**Abstraction**: Abstraction focuses on hiding complex implementation details and exposing only essential information to the user. It allows users to interact with objects at a high level, without needing to know how things work internally\n",
        "\n",
        "**Encapsulation**: Encapsulation is a Python technique for combining data and functions into a\n",
        "single object. A class, for instance, contains all the data (methods and variables). Encapsulation refers to the\n",
        "broad concealment of an object's internal representation from areas outside of its specification."
      ],
      "metadata": {
        "id": "Y4Eg9T4CfQ-V"
      }
    },
    {
      "cell_type": "markdown",
      "source": [
        "5. What are dunder methods in Python?\n",
        "\n",
        "\n",
        "Answer: Dunder method is known as magic method or special method, in python are special reserved methods that are surronded by double underscore (__method__). These methods are allows you to define how instances of your classes behave when they are used with built-in python functions or operators. Understanding dunder method is crucial for creating custom objects that behave like built-in type or implementing operator overloading in python.\n",
        "\n",
        "**Some commonly used dunder methods are**:\n",
        "\n",
        "\\__init__\\(self,..)\n",
        "\n",
        "\\__str__\\(self)\n",
        "\n",
        "\\__repr__\\(Self)\n",
        "\n",
        "\\__add__\\(self, other)\n",
        "\n",
        "\\__eq__\\(self,other)\n",
        "\n",
        "\n"
      ],
      "metadata": {
        "id": "UfeWkPQTF_t_"
      }
    },
    {
      "cell_type": "markdown",
      "source": [
        "6. Explain the concept of inheritance in OOP.\n",
        "\n",
        "Answer: Inheritance plays significant role in object-oriented programming language. Inheritance in python refers to the process of a child class receiving the parent class's properties.\n",
        "The reuse of code is inheritance main goal. Instead of starting from scratch when developing a new class, we can use the existing class instead of re-creating it from scratch."
      ],
      "metadata": {
        "id": "PlXyA5a2NuQF"
      }
    },
    {
      "cell_type": "markdown",
      "source": [
        "7. What is polymorphism in OOP?\n",
        "\n",
        "Answer: Polymorphism refers to an object's capacity to assume sevral forms.\n",
        "Simply said, polymorphism enables us to carry out a single activity in a varity of ways"
      ],
      "metadata": {
        "id": "fFeVGeqtWzbQ"
      }
    },
    {
      "cell_type": "markdown",
      "source": [
        "8. How is encapsulation achieved in Python?\n",
        "\n",
        "Answer: Encapsulation is a Python technique for combining data and functions into a\n",
        "single object. A class, for instance, contains all the data (methods and variables). Encapsulation refers to the\n",
        "broad concealment of an object's internal representation from areas outside of its specification."
      ],
      "metadata": {
        "id": "zHkBekFGY_2e"
      }
    },
    {
      "cell_type": "markdown",
      "source": [
        "9. What is a constructor in Python?\n",
        "\n",
        "Answer: In python, a constructor is a special method that is called automatically when an object is created from class. Its main role is to initialize the object by setting up its attributes or states.\n",
        "\n",
        "The method __new__ is the constructor that creates a new instance of the class, while __init__ is the intializer that sets up the instance's attributes after creation."
      ],
      "metadata": {
        "id": "bbplP7ZDdf5t"
      }
    },
    {
      "cell_type": "markdown",
      "source": [
        "10. What are class and static methods in Python?\n",
        "\n",
        "Answer:\n",
        "\n",
        "**Class Method:** Class method are the methods that are bound to the class and not the instance of the class. They can access or madify class state that applies across all instances of the class. Class methods are defined using the @classmethod decorator.\n",
        "\n",
        "**Static Method:**  Static methods are methods that belong to the class and don't acceess or modify class or instance state.\n",
        "They are defined using the @staticmethod decorator"
      ],
      "metadata": {
        "id": "eETT4eQtjuUb"
      }
    },
    {
      "cell_type": "markdown",
      "source": [
        "11. What is method overloading in Python?\n",
        "\n",
        "Answer: Method overloading is the practice of invoking the same method more than\n",
        "once with different parameters. Method overloading is not supported by Python. Even if you overload the\n",
        "method, Python only takes into account the most recent definition. If you overload a method in Python, a\n",
        "TypeError will be raised."
      ],
      "metadata": {
        "id": "gR1XE86pmDBE"
      }
    },
    {
      "cell_type": "markdown",
      "source": [
        "12. What is method overriding in OOP?\n",
        "\n",
        "Answer: In Python, method overriding is the process of providing a different\n",
        "implementation for a method that is already defined in the superclass within a subclass. It enables the\n",
        "subclass to define its own version of a method with the same name and parameters as the method in the\n",
        "superclass. When a method is overridden, the subclass implements the method in its own way, which\n",
        "overrides the behaviour defined in the superclass. The subclass can then alter or expand the functionality of\n",
        "the inherited method."
      ],
      "metadata": {
        "id": "xYdxBWYEn68c"
      }
    },
    {
      "cell_type": "markdown",
      "source": [
        "13. What is a property decorator in Python?\n",
        "\n",
        "Answer: Property is a decorator and is used for functions llike an attribute or property. Python @property is a built-in decorator that comes under the property() function used to define or create a special attribute type known as the prperty of a class."
      ],
      "metadata": {
        "id": "-aVudwOTpaHU"
      }
    },
    {
      "cell_type": "markdown",
      "source": [
        "14. Why is polymorphism important in OOP?\n",
        "\n",
        "Answer: In python polymorphism is important due to its flexibility, code reusability, simplified interfaces and duck typing"
      ],
      "metadata": {
        "id": "b53hYQcZKX4f"
      }
    },
    {
      "cell_type": "markdown",
      "source": [
        "15. What is an abstract class in Python?\n",
        "\n",
        "Answer: An absttract class is a class that cannot be instantiated and will contain one or more abstract methods - methods without a defined implementation.\n",
        "Abstract classes provide a blueprint for other classes, enforcing a common structure while allowing derived classes to proviide concrete implementation for the abstract method."
      ],
      "metadata": {
        "id": "Wj1lCc4WS11H"
      }
    },
    {
      "cell_type": "markdown",
      "source": [
        "16. What are the advantages of OOP?\n",
        "\n",
        "Answer: Object oriented programming offers advantages like - Code reusability, maintainbility, scalability and modularity, which siplify complex projects by promoting structure code, making it easier to debug and collaborate"
      ],
      "metadata": {
        "id": "oFcyUmYGV7To"
      }
    },
    {
      "cell_type": "markdown",
      "source": [
        "17 What is the difference between a class variable and an instance variable?\n",
        "\n",
        "Answer:\n",
        "\n",
        " **Class Variable:** It is basically a static variable that can be decleared anywhere at class level with static. Across different objects, these variables can have only one value. These variables are not tied to any particular object of class, therefore, can share across all objects of the class.\n",
        "\n",
        "**Instance Varibale:** It is basically a class variable without a static modifier and is usually shared by all class instances. Across different objects, these varibles can have different values. they are tied to a particular object instance of the class, therefore the contents of an instance varibale are toatlly independent of one object instance to others.\n"
      ],
      "metadata": {
        "id": "MMpswbFdXOrJ"
      }
    },
    {
      "cell_type": "markdown",
      "source": [
        "18. What is multiple inheritance in Python?\n",
        "\n",
        "Answer: In python one child class may inherit from sevral parent classes when there is multiple inheritance."
      ],
      "metadata": {
        "id": "4fgQx7fia8Pu"
      }
    },
    {
      "cell_type": "markdown",
      "source": [
        "19. Explain the purpose of ‘’__str__’ and ‘__repr__’ ‘ methods in Python?\n",
        "\n",
        "Answer.\n",
        "\n",
        "\\__Str__\\(self) -This method is called when the str() function is used on an instance of the class. It should return a string representation of the object.\n",
        "\n",
        "\\__repr__\\(self)- This method is called when the repr() function is used on an instance of the class. It shold reteurn an unambiguous string reprentation of the object, which can be used to recreate the object."
      ],
      "metadata": {
        "id": "I3vxst8iJOnE"
      }
    },
    {
      "cell_type": "markdown",
      "source": [
        "20. What is the significance of the ‘super()’ function in Python?\n",
        "\n",
        "Answer: super() func is used to refer to the parent class or superclass. It allows you to call methods defined in the superclass from the subclass, enabling you to extend and customize the functionality inherited from the parent class."
      ],
      "metadata": {
        "id": "EQebuL4FNMzB"
      }
    },
    {
      "cell_type": "markdown",
      "source": [
        "21. What is the significance of the \\_\\_del_\\_ method in Python?\n",
        "\n",
        "Answer:  \\_\\_del_\\_ method is a special method in python that is called when an object is about to be destroyed. It allows you to define specific cleanup actions that should be taken when an object is garbage collected."
      ],
      "metadata": {
        "id": "vtN8MK6kRscT"
      }
    },
    {
      "cell_type": "markdown",
      "source": [
        "22. What is the difference between @staticmethod and @classmethod in Python?\n",
        "\n",
        "Answer:\n",
        "A class method takes cls as the first parameter while a static method needs no specific parameters.\n",
        "A class method can access or modify the class state while static method can't access or modify it.\n",
        "In genral, static method knows nothing about the class state. They are utility-type methods that take some parameters and work upon those parameters. On the other hand class method must have class as a parameter.\n",
        "We use @classmethod decorator in python to create a clasas method and we use @staticmethod decorator to create a sstatic method in python.\n",
        "\n"
      ],
      "metadata": {
        "id": "gNQXBApdV5_t"
      }
    },
    {
      "cell_type": "markdown",
      "source": [
        " 23. How does polymorphism work in Python with inheritance?\n",
        "\n",
        " Answer: Inheritance-based polymorphism occurs when a subclass overrides a method from its parent class, providing a specific implementation. This process of re-implementing a method in the child class is known as method overriding"
      ],
      "metadata": {
        "id": "aKJFlSTG--L-"
      }
    },
    {
      "cell_type": "markdown",
      "source": [
        "24.  What is method chaining in Python OOP?\n",
        "\n",
        "Answer: Method chaining is a powerful technique that allows to call multiple methods on an object sequentially in a single line of code. This is achieved by having each method return the object itself (self) allowing the calls to be chained together."
      ],
      "metadata": {
        "id": "TaqpgKYjAYD8"
      }
    },
    {
      "cell_type": "markdown",
      "source": [
        "25.  What is the purpose of the \\__ _call_ __ method in Python?\n",
        "\n",
        "Answer: The \\__call__ method in Python allows instances of a class to be called as if they were functions. When you define a \\__call_ __ method within a class, you enable objects of that class to be invoked using parentheses, just like regular functions."
      ],
      "metadata": {
        "id": "TDpbvvsEBcT5"
      }
    },
    {
      "cell_type": "markdown",
      "source": [
        "# **Practical Questions**"
      ],
      "metadata": {
        "id": "EmAHZCGMUN02"
      }
    },
    {
      "cell_type": "markdown",
      "source": [
        "1. . Create a parent class Animal with a method speak() that prints a generic message. Create a child class Dog\n",
        "that overrides the speak() method to print \"Bark!\".\n"
      ],
      "metadata": {
        "id": "o0qtjRaHdaAU"
      }
    },
    {
      "cell_type": "code",
      "source": [
        "class Animal:\n",
        "  def speak(self):\n",
        "    print(\"Generic Animal Sound (Dog and cat)\")\n",
        "class Dog(Animal):\n",
        "  def speak(self):\n",
        "    print(\"Bark\")\n",
        "\n",
        "class Cat(Animal):\n",
        "  def speak(self):\n",
        "    print(\"Meaww\")\n",
        "\n",
        "\n",
        "animal = Animal()\n",
        "dog = Dog()\n",
        "cat = Cat()\n",
        "\n",
        "animal.speak()\n",
        "dog.speak()\n",
        "cat.speak()"
      ],
      "metadata": {
        "colab": {
          "base_uri": "https://localhost:8080/"
        },
        "id": "Cmfe7_-uepiO",
        "outputId": "4a79b49a-8fd6-4c60-b15e-48efed848c93"
      },
      "execution_count": 100,
      "outputs": [
        {
          "output_type": "stream",
          "name": "stdout",
          "text": [
            "Generic Animal Sound (Dog and cat)\n",
            "Bark\n",
            "Meaww\n"
          ]
        }
      ]
    },
    {
      "cell_type": "markdown",
      "source": [
        "2.  Write a program to create an abstract class Shape with a method area(). Derive classes Circle and Rectangle\n",
        "from it and implement the area() method in both."
      ],
      "metadata": {
        "id": "SAzDWfeGhC27"
      }
    },
    {
      "cell_type": "code",
      "source": [
        "from abc import ABC, abstractmethod\n",
        "import math\n",
        "\n",
        "class Shape(ABC):\n",
        "  @abstractmethod\n",
        "  def area(self):\n",
        "    pass\n",
        "\n",
        "class Circle(Shape):\n",
        "  def __init__(self, radius):\n",
        "    self.radius = radius\n",
        "\n",
        "  def area(self):\n",
        "    return math.pi * self.radius**2\n",
        "\n",
        "class Rectangle(Shape):\n",
        "  def __init__(self, width, hight):\n",
        "    self.width = width\n",
        "    self.hight = hight\n",
        "\n",
        "  def area(self):\n",
        "    return self.width*self.hight\n",
        "\n",
        "\n",
        "\n",
        "circle = Circle(4)\n",
        "rectangle = Rectangle(5,3)\n",
        "\n",
        "print(\"Cirecle Area:\", circle.area())\n",
        "print(\"Rectangle Area:\", rectangle.area())"
      ],
      "metadata": {
        "colab": {
          "base_uri": "https://localhost:8080/"
        },
        "id": "60kKXwsShpmZ",
        "outputId": "2f5d5f33-5cce-479d-f1e1-4e2929a46054"
      },
      "execution_count": 101,
      "outputs": [
        {
          "output_type": "stream",
          "name": "stdout",
          "text": [
            "Cirecle Area: 50.26548245743669\n",
            "Rectangle Area: 15\n"
          ]
        }
      ]
    },
    {
      "cell_type": "markdown",
      "source": [
        "3.  Implement a multi-level inheritance scenario where a class Vehicle has an attribute type. Derive a class Car\n",
        "and further derive a class ElectricCar that adds a battery attribute.\n"
      ],
      "metadata": {
        "id": "BzW9SwrrtlXs"
      }
    },
    {
      "cell_type": "code",
      "source": [
        "class Vehicle:\n",
        "  def __init__(self, type):\n",
        "    self.type = type\n",
        "\n",
        "class Car(Vehicle):\n",
        "  def __init__(self, type, model):\n",
        "    super().__init__(type)\n",
        "    self.model = model\n",
        "\n",
        "class ElectricCar(Car):\n",
        "  def __init__(self, type, model, battery_capacity):\n",
        "    self.battery_capacity = battery_capacity\n",
        "    super().__init__(type, model)\n",
        "\n",
        "vehicle = Vehicle(\"Genric vehicle\")\n",
        "car = Car(\"SUV\", \"Toyota Inova\")\n",
        "electric_car = ElectricCar(\"Electric\", \"Tesla Model S\", \"70KWh\")\n",
        "\n",
        "print(f\"Vehicle Type:{vehicle.type}\")\n",
        "print(f\"Car Type:{car.type}, Model:{car.model}\")\n",
        "print(f\"Electric Car Type:{electric_car.type}, Model:{electric_car.model}, Battery:{electric_car.battery_capacity}\")"
      ],
      "metadata": {
        "id": "cp5D-ahOtwaS",
        "colab": {
          "base_uri": "https://localhost:8080/"
        },
        "collapsed": true,
        "outputId": "3a33441d-03a7-49c7-fb66-84248d799e4f"
      },
      "execution_count": 102,
      "outputs": [
        {
          "output_type": "stream",
          "name": "stdout",
          "text": [
            "Vehicle Type:Genric vehicle\n",
            "Car Type:SUV, Model:Toyota Inova\n",
            "Electric Car Type:Electric, Model:Tesla Model S, Battery:70KWh\n"
          ]
        }
      ]
    },
    {
      "cell_type": "markdown",
      "source": [
        "4. Demonstrate polymorphism by creating a base class Bird with a method fly(). Create two derived classes\n",
        "Sparrow and Penguin that override the fly() method."
      ],
      "metadata": {
        "id": "eUfV1vvaLg1M"
      }
    },
    {
      "cell_type": "code",
      "source": [
        "class Bird:\n",
        "  def fly(self):\n",
        "    print(\"Birds can fly\")\n",
        "\n",
        "class Sparrow(Bird):\n",
        "  def fly(self):\n",
        "    print(\"Sparrows flies with small wings\")\n",
        "\n",
        "class Penguin(Bird):\n",
        "  def fly(self):\n",
        "    print(\"Penguins can't fly, but it swims\")\n",
        "\n",
        "\n",
        "\n",
        "bird = Bird()\n",
        "sparrow = Sparrow()\n",
        "penguin = Penguin()\n",
        "\n",
        "bird.fly()\n",
        "sparrow.fly()\n",
        "penguin.fly()"
      ],
      "metadata": {
        "colab": {
          "base_uri": "https://localhost:8080/"
        },
        "id": "F2BzulHCXGFb",
        "outputId": "f449b5f7-fde1-435c-a209-04e4009fe688"
      },
      "execution_count": 103,
      "outputs": [
        {
          "output_type": "stream",
          "name": "stdout",
          "text": [
            "Birds can fly\n",
            "Sparrows flies with small wings\n",
            "Penguins can't fly, but it swims\n"
          ]
        }
      ]
    },
    {
      "cell_type": "markdown",
      "source": [
        "5.  Write a program to demonstrate encapsulation by creating a class BankAccount with private attributes\n",
        "balance and methods to deposit, withdraw, and check balance."
      ],
      "metadata": {
        "id": "eHyz3Nc7uMzu"
      }
    },
    {
      "cell_type": "code",
      "source": [
        "class BankAcount:\n",
        "  def __init__(self, intial_balance = 0):\n",
        "    self.__balance = intial_balance\n",
        "\n",
        "  def deposit(self, amount):\n",
        "    if amount > 0:\n",
        "      self.__balance += amount\n",
        "      print(f\"Deposited: ${amount:.2f}\")\n",
        "    else:\n",
        "      print(\"Invalid deposit amount.\")\n",
        "\n",
        "  def withdraw(self, amount):\n",
        "    if 0 < amount <= self.__balance:\n",
        "      self.__balance -= amount\n",
        "      print(f\"Withdrawn: ${amount:.2f}\")\n",
        "    else:\n",
        "      print(\"Insufficient balance.\")\n",
        "\n",
        "  def check_balance(self):\n",
        "    print(f\"Current Balance: ${self.__balance:.2f}\")\n",
        "\n",
        "\n",
        "account = BankAcount(1000)\n",
        "account.deposit(500)\n",
        "account.withdraw(200)\n",
        "account.check_balance()"
      ],
      "metadata": {
        "colab": {
          "base_uri": "https://localhost:8080/"
        },
        "id": "w2vrZY5i1ls2",
        "outputId": "dae4c33e-1d28-4d2e-d05e-628b6f94f802"
      },
      "execution_count": 104,
      "outputs": [
        {
          "output_type": "stream",
          "name": "stdout",
          "text": [
            "Deposited: $500.00\n",
            "Withdrawn: $200.00\n",
            "Current Balance: $1300.00\n"
          ]
        }
      ]
    },
    {
      "cell_type": "markdown",
      "source": [
        "6. Demonstrate runtime polymorphism using a method play() in a base class Instrument. Derive classes Guitar\n",
        "and Piano that implement their own version of play().\n"
      ],
      "metadata": {
        "id": "s_PumFVFwMnY"
      }
    },
    {
      "cell_type": "code",
      "source": [
        "class Instrument:\n",
        "  def play(self):\n",
        "    print(\"Playing an instrument\")\n",
        "\n",
        "class Guitar(Instrument):\n",
        "  def play(self):\n",
        "    print(\"Playing a guitar\")\n",
        "\n",
        "class Piano(Instrument):\n",
        "  def play(self):\n",
        "    print(\"Playing a piano\")\n",
        "\n",
        "\n",
        "instrument = Instrument()\n",
        "guitar = Guitar()\n",
        "piano = Piano()\n",
        "\n",
        "instrument.play()\n",
        "guitar.play()\n",
        "piano.play()"
      ],
      "metadata": {
        "colab": {
          "base_uri": "https://localhost:8080/"
        },
        "id": "zlHHRZ6ywUvr",
        "outputId": "f67bc038-8523-421d-aadc-7318df8ded98"
      },
      "execution_count": 105,
      "outputs": [
        {
          "output_type": "stream",
          "name": "stdout",
          "text": [
            "Playing an instrument\n",
            "Playing a guitar\n",
            "Playing a piano\n"
          ]
        }
      ]
    },
    {
      "cell_type": "markdown",
      "source": [
        "7.  Create a class MathOperations with a class method add_numbers() to add two numbers and a static\n",
        "method subtract_numbers() to subtract two numbers.\n"
      ],
      "metadata": {
        "id": "vAaZwaBBxHkB"
      }
    },
    {
      "cell_type": "code",
      "source": [
        "class MathOperations:\n",
        "  @classmethod\n",
        "  def add_numbers(cls, num1, num2):\n",
        "    return num1 + num2\n",
        "\n",
        "  @staticmethod\n",
        "  def subtract_numbers(num1, num2):\n",
        "    return num1 - num2\n",
        "\n",
        "result_add = MathOperations.add_numbers(5, 3)\n",
        "result_subtract = MathOperations.subtract_numbers(10, 4)\n",
        "\n",
        "\n",
        "print(\"Addition:\", result_add)\n",
        "print(\"Subtraction:\", result_subtract)\n"
      ],
      "metadata": {
        "colab": {
          "base_uri": "https://localhost:8080/"
        },
        "id": "_1pD2v38xPY7",
        "outputId": "5e4dc162-7718-470c-fda9-8b3b1557e0a7"
      },
      "execution_count": 106,
      "outputs": [
        {
          "output_type": "stream",
          "name": "stdout",
          "text": [
            "Addition: 8\n",
            "Subtraction: 6\n"
          ]
        }
      ]
    },
    {
      "cell_type": "markdown",
      "source": [
        "8. Implement a class Person with a class method to count the total number of persons created.\n"
      ],
      "metadata": {
        "id": "TzvUNV7IyRgE"
      }
    },
    {
      "cell_type": "code",
      "source": [
        "class Person:\n",
        "  count = 0\n",
        "\n",
        "  def __init__(self, name):\n",
        "    self.name = name\n",
        "    Person.count += 1\n",
        "\n",
        "  @classmethod\n",
        "  def get_total_persons(cls):\n",
        "    return cls.count\n",
        "\n",
        "person1 = Person(\"Amar\")\n",
        "person2 = Person(\"Rahul\")\n",
        "person3 = Person(\"Vidur\")\n",
        "person4 = Person(\"Chaman\")\n",
        "\n",
        "total_persons = Person.get_total_persons()\n",
        "print(\"Total persons created:\", total_persons)\n"
      ],
      "metadata": {
        "colab": {
          "base_uri": "https://localhost:8080/"
        },
        "id": "iO83o0vvyts_",
        "outputId": "8ee3aeb0-5c1e-486c-9443-2d62a7383180"
      },
      "execution_count": 107,
      "outputs": [
        {
          "output_type": "stream",
          "name": "stdout",
          "text": [
            "Total persons created: 4\n"
          ]
        }
      ]
    },
    {
      "cell_type": "markdown",
      "source": [
        "9.  Write a class Fraction with attributes numerator and denominator. Override the str method to display the\n",
        "fraction as \"numerator/denominator\".\n"
      ],
      "metadata": {
        "id": "1rRzoPPmzVsf"
      }
    },
    {
      "cell_type": "code",
      "source": [
        "class Fraction:\n",
        "  def __init__(self, numerator, denominator):\n",
        "    self.numerator = numerator\n",
        "    self.denominator = denominator\n",
        "\n",
        "  def __str__(self):\n",
        "    return f\"{self.numerator}/{self.denominator}\"\n",
        "\n",
        "\n",
        "fraction = Fraction(3, 4)\n",
        "print(fraction)"
      ],
      "metadata": {
        "colab": {
          "base_uri": "https://localhost:8080/"
        },
        "id": "v2sZYIOD1sza",
        "outputId": "30e3c68b-5959-4cad-819f-aceb8408deae"
      },
      "execution_count": 108,
      "outputs": [
        {
          "output_type": "stream",
          "name": "stdout",
          "text": [
            "3/4\n"
          ]
        }
      ]
    },
    {
      "cell_type": "markdown",
      "source": [
        "10.  Demonstrate operator overloading by creating a class Vector and overriding the add method to add two\n",
        "vectors.\n"
      ],
      "metadata": {
        "id": "QTjgGPtizn5s"
      }
    },
    {
      "cell_type": "code",
      "source": [
        "class Vector:\n",
        "  def __init__(self,x, y):\n",
        "    self.x = x\n",
        "    self.y = y\n",
        "\n",
        "  def __add__(self, other):\n",
        "    return Vector(self.x + other.x, self.y + other.y)\n",
        "\n",
        "  def __str__(self):\n",
        "    return f\"({self.x}, {self.y})\"\n",
        "\n",
        "v1 = Vector(2,6)\n",
        "v2 = Vector(8,6)\n",
        "\n",
        "v3 = v1 + v2\n",
        "\n",
        "\n",
        "print(v3)"
      ],
      "metadata": {
        "colab": {
          "base_uri": "https://localhost:8080/"
        },
        "id": "JqizyHnGzuLC",
        "outputId": "4b140249-2f16-4e0a-8aff-3ff414da9449"
      },
      "execution_count": 109,
      "outputs": [
        {
          "output_type": "stream",
          "name": "stdout",
          "text": [
            "(10, 12)\n"
          ]
        }
      ]
    },
    {
      "cell_type": "markdown",
      "source": [
        "11. . Create a class Person with attributes name and age. Add a method greet() that prints \"Hello, my name is\n",
        "{name} and I am {age} years old.\"\n"
      ],
      "metadata": {
        "id": "cW-FI_eA02vV"
      }
    },
    {
      "cell_type": "code",
      "source": [
        "class Person:\n",
        "  def __init__(self, name, age):\n",
        "    self.name = name\n",
        "    self.age = age\n",
        "\n",
        "  def greet(self):\n",
        "    print(f\"Hello, my name is {self.name} and I am {self.age} years old.\")\n",
        "\n",
        "\n",
        "person = Person(\"Rahul\", 40)\n",
        "person.greet()"
      ],
      "metadata": {
        "colab": {
          "base_uri": "https://localhost:8080/"
        },
        "id": "yH9YceZI1vyi",
        "outputId": "b93879b2-c22a-4af3-cd40-dc61514dbdd9"
      },
      "execution_count": 110,
      "outputs": [
        {
          "output_type": "stream",
          "name": "stdout",
          "text": [
            "Hello, my name is Rahul and I am 40 years old.\n"
          ]
        }
      ]
    },
    {
      "cell_type": "markdown",
      "source": [
        "12. 12. Implement a class Student with attributes name and grades. Create a method average_grade() to compute\n",
        "the average of the grades."
      ],
      "metadata": {
        "id": "p13ao_WzA2yo"
      }
    },
    {
      "cell_type": "code",
      "source": [
        "class Student:\n",
        "  def __init__(self, name, grades):\n",
        "    self.name = name\n",
        "    self.grades = grades\n",
        "\n",
        "  def average_grade(self):\n",
        "    if not self.grades:\n",
        "      return 0\n",
        "    return sum(self.grades)/len(self.grades)\n",
        "\n",
        "\n",
        "student = Student(\"Rahul\", [80,95,85,99,78])\n",
        "\n",
        "average = student.average_grade()\n",
        "print(f\"{student.name} average grade: {average}\")"
      ],
      "metadata": {
        "colab": {
          "base_uri": "https://localhost:8080/"
        },
        "id": "eLqWbn1P3InW",
        "outputId": "34cb8324-2b7c-4777-ac44-cb8a3210d8f7"
      },
      "execution_count": 111,
      "outputs": [
        {
          "output_type": "stream",
          "name": "stdout",
          "text": [
            "Rahul average grade: 87.4\n"
          ]
        }
      ]
    },
    {
      "cell_type": "markdown",
      "source": [
        "13.  Create a class Rectangle with methods set_dimensions() to set the dimensions and area() to calculate the\n",
        "area."
      ],
      "metadata": {
        "id": "xLcQqN_GA9sl"
      }
    },
    {
      "cell_type": "code",
      "source": [
        "class Rectangle:\n",
        "  def __init__(self, width=0, height=0):\n",
        "    self.width = width\n",
        "    self.height = height\n",
        "\n",
        "  def set_dimensions(self, width, height):\n",
        "    self.width = width\n",
        "    self.height = height\n",
        "\n",
        "  def area(self):\n",
        "    return self.width * self.height\n",
        "\n",
        "\n",
        "rectangle = Rectangle()\n",
        "rectangle.set_dimensions(15, 20)\n",
        "\n",
        "rectangle_area = rectangle.area()\n",
        "print(\"Rectangle Area:\", rectangle_area)"
      ],
      "metadata": {
        "colab": {
          "base_uri": "https://localhost:8080/"
        },
        "id": "VsQd2YlW4K3-",
        "outputId": "558d0bc9-0e1b-4fc9-83ed-f0da1797ee4c"
      },
      "execution_count": 112,
      "outputs": [
        {
          "output_type": "stream",
          "name": "stdout",
          "text": [
            "Rectangle Area: 300\n"
          ]
        }
      ]
    },
    {
      "cell_type": "markdown",
      "source": [
        "14.  Create a class Employee with a method calculate_salary() that computes the salary based on hours worked\n",
        "and hourly rate. Create a derived class Manager that adds a bonus to the salary."
      ],
      "metadata": {
        "id": "Q0JyDWvm4SHy"
      }
    },
    {
      "cell_type": "code",
      "source": [
        "class Employee:\n",
        "  def __init__(self, name, hours_worked, hourly_rate):\n",
        "    self.name = name\n",
        "    self.hours_worked = hours_worked\n",
        "    self.hourly_rate = hourly_rate\n",
        "\n",
        "  def calculate_salary(self):\n",
        "    return self.hours_worked * self.hourly_rate\n",
        "\n",
        "class Manager(Employee):\n",
        "  def __init__(self, name, hours_worked, hourly_rate, bonus):\n",
        "    super().__init__(name, hours_worked, hourly_rate)\n",
        "    self.bonus = bonus\n",
        "\n",
        "\n",
        "  def calculate_salary(self):\n",
        "    base_salary = super().calculate_salary()\n",
        "    return base_salary + self.bonus\n",
        "\n",
        "employee = Employee(\"Ravi\", 35, 15)\n",
        "manager = Manager(\"Imran\", 35, 15, 1000)\n",
        "\n",
        "employee_salary = employee.calculate_salary()\n",
        "manager_salary = manager.calculate_salary()\n",
        "\n",
        "print(f\"{employee.name} : salary: ${employee_salary}\")\n",
        "print(f\"{manager.name} : salary: ${manager_salary}\")"
      ],
      "metadata": {
        "colab": {
          "base_uri": "https://localhost:8080/"
        },
        "id": "8DGoQxz-5ha_",
        "outputId": "8696b1b8-b0d3-4319-acc5-39012488c822"
      },
      "execution_count": 113,
      "outputs": [
        {
          "output_type": "stream",
          "name": "stdout",
          "text": [
            "Ravi : salary: $525\n",
            "Imran : salary: $1525\n"
          ]
        }
      ]
    },
    {
      "cell_type": "markdown",
      "source": [
        "15. . Create a class Product with attributes name, price, and quantity. Implement a method total_price() that\n",
        "calculates the total price of the product.\n"
      ],
      "metadata": {
        "id": "qHhkHlyq5zMu"
      }
    },
    {
      "cell_type": "code",
      "source": [
        "class Product:\n",
        "  def __init__(self, name, price, quantity):\n",
        "    self.name = name\n",
        "    self.price = price\n",
        "    self.quantity = quantity\n",
        "\n",
        "  def total_price(self):\n",
        "    return self.price * self.quantity\n",
        "\n",
        "product = Product(\"iPhone16\", 65000, 2)\n",
        "\n",
        "total_price = product.total_price()\n",
        "print(f\"Total Price: Rs {total_price}\")"
      ],
      "metadata": {
        "colab": {
          "base_uri": "https://localhost:8080/"
        },
        "id": "VcjzQ6GJ61LQ",
        "outputId": "7771a145-fa02-4a53-bc5e-3ef19aa385e7"
      },
      "execution_count": 114,
      "outputs": [
        {
          "output_type": "stream",
          "name": "stdout",
          "text": [
            "Total Price: Rs 130000\n"
          ]
        }
      ]
    },
    {
      "cell_type": "markdown",
      "source": [
        "16.  Create a class Animal with an abstract method sound(). Create two derived classes Cow and Sheep that\n",
        "implement the sound() method."
      ],
      "metadata": {
        "id": "GvSa5xq_62vH"
      }
    },
    {
      "cell_type": "code",
      "source": [
        "from abc import ABC, abstractmethod\n",
        "\n",
        "class Animal(ABC):\n",
        "    @abstractmethod\n",
        "    def sound(self):\n",
        "      pass\n",
        "\n",
        "\n",
        "\n",
        "class Cow(Animal):\n",
        "    def sound(self):\n",
        "\n",
        "        return \"Moo!\"\n",
        "\n",
        "class Sheep(Animal):\n",
        "    def sound(self):\n",
        "\n",
        "        return \"Baa!\"\n",
        "\n",
        "\n",
        "cow = Cow()\n",
        "sheep = Sheep()\n",
        "\n",
        "print(f\"Cow says: {cow.sound()}\")\n",
        "print(f\"Sheep says: {sheep.sound()}\")"
      ],
      "metadata": {
        "colab": {
          "base_uri": "https://localhost:8080/"
        },
        "id": "m-VXIdCB7GAD",
        "outputId": "1c4cb0b4-0a19-4219-ec24-1f6642d79bb2"
      },
      "execution_count": 115,
      "outputs": [
        {
          "output_type": "stream",
          "name": "stdout",
          "text": [
            "Cow says: Moo!\n",
            "Sheep says: Baa!\n"
          ]
        }
      ]
    },
    {
      "cell_type": "markdown",
      "source": [
        "17. . Create a class Book with attributes title, author, and year_published. Add a method get_book_info() that\n",
        "returns a formatted string with the book's details."
      ],
      "metadata": {
        "id": "0foCX0s67pwU"
      }
    },
    {
      "cell_type": "code",
      "source": [
        "class Book:\n",
        "  def __init__(self, title, author, year_published):\n",
        "    self.title = title\n",
        "    self.author = author\n",
        "    self.year_published = year_published\n",
        "\n",
        "  def get_book_info(self):\n",
        "    return f\"Title: {self.title}\\nAuthor: {self.author}\\nYear Published: {self.year_published}\"\n",
        "\n",
        "\n",
        "book = Book(\"Godan\", \"Munshi Premchand\", 1938)\n",
        "\n",
        "book_info = book.get_book_info()\n",
        "print(book_info)"
      ],
      "metadata": {
        "colab": {
          "base_uri": "https://localhost:8080/"
        },
        "id": "nQDxqtdd8ajg",
        "outputId": "992e8483-76ee-44d1-e651-8578e1108f07"
      },
      "execution_count": 116,
      "outputs": [
        {
          "output_type": "stream",
          "name": "stdout",
          "text": [
            "Title: Godan\n",
            "Author: Munshi Premchand\n",
            "Year Published: 1938\n"
          ]
        }
      ]
    },
    {
      "cell_type": "markdown",
      "source": [
        "18. . Create a class House with attributes address and price. Create a derived class Mansion that adds an\n",
        "attribute number_of_rooms."
      ],
      "metadata": {
        "id": "-liOstTE8cMk"
      }
    },
    {
      "cell_type": "code",
      "source": [
        "class House:\n",
        "  def __init__(self, address, price):\n",
        "    self.address = address\n",
        "    self.price = price\n",
        "\n",
        "class Mansion(House):\n",
        "  def __init__(self, address, price, number_of_rooms):\n",
        "    super().__init__(address, price)\n",
        "    self.number_of_rooms = number_of_rooms\n",
        "\n",
        "\n",
        "\n",
        "house = House(\"Nand Nagar: Indore\", 30000000)\n",
        "mansion = Mansion(\"Vijay Nagar: Indore\", 6000000, 9)\n",
        "\n",
        "print(f\"House Address: {house.address}, price:{house.price}\")\n",
        "print(f\"Mansion Address: {mansion.address}, price:{mansion.price}, number of rooms:{mansion.number_of_rooms}\")\n"
      ],
      "metadata": {
        "colab": {
          "base_uri": "https://localhost:8080/"
        },
        "id": "mN7dCpSB_xQS",
        "outputId": "85504919-404a-4515-bc98-ae15623c5c0a"
      },
      "execution_count": 117,
      "outputs": [
        {
          "output_type": "stream",
          "name": "stdout",
          "text": [
            "House Address: Nand Nagar: Indore, price:30000000\n",
            "Mansion Address: Vijay Nagar: Indore, price:6000000, number of rooms:9\n"
          ]
        }
      ]
    }
  ]
}